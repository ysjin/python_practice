
In [9]
import matplotlib
import numpy as np
%matplotlib inline
x = np.linspace(0, 2*np.pi)
matplotlib.pyplot.plot(x, np.sin(x), label = r'$\sin(x)$')


[<matplotlib.lines.Line2D at 0x764def0>]
 

